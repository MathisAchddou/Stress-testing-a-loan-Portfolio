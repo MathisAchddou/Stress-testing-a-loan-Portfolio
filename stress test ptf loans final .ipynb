{
 "cells": [
  {
   "cell_type": "code",
   "execution_count": 309,
   "id": "26174732-7c80-4e1f-ae13-1596e4615c8f",
   "metadata": {},
   "outputs": [],
   "source": [
    "# stress test for bank loans portfolio"
   ]
  },
  {
   "cell_type": "code",
   "execution_count": 310,
   "id": "a2ac0c84-f479-4256-a5f7-b998c349ea22",
   "metadata": {},
   "outputs": [],
   "source": [
    "#import libraries\n",
    "import numpy as np\n",
    "import pandas as pd \n",
    "import statsmodels.api as sm\n",
    "import statsmodels.formula.api as smf\n",
    "import matplotlib.pyplot as plt "
   ]
  },
  {
   "cell_type": "code",
   "execution_count": 311,
   "id": "1420668c-e615-4055-92a4-e0604ab7783d",
   "metadata": {},
   "outputs": [],
   "source": [
    "\"\"\"\n",
    "importation du ptf de crédit\n",
    "\n",
    "Risklevel : classe le risque global entre 1 et 3\n",
    "Year On Book (YOB): l'âge du prêt, combien de temps s'est écoulé depuis que le prêt a été émis ou enregistré.\n",
    "Loss Given Default (LGD) : fraction de l'exposition au défaut qu'un prêteur perd effectivement lorsqu'un emprunteur fait défaut sur un prêt, pertes potentilles en cas de défaut\n",
    "Exposure At Default (EAD) : le montant que la banque est exposée au risque de défaut de l'emprunteur au moment du défaut. C'est l'encours du prêt ou la valeur de l'exposition au moment où l'emprunteur fait défaut.\n",
    "\"\"\"\n",
    "\n",
    "ptf = pd.read_excel(\"OutstandingLoans.xlsx\")"
   ]
  },
  {
   "cell_type": "code",
   "execution_count": 312,
   "id": "5708c930-1060-4d57-97d7-7a095880501c",
   "metadata": {},
   "outputs": [],
   "source": [
    "# importation de notre historique de prêt \n",
    "# 1 = défaut de l'emprunteur au cours de la vie du prêt \n",
    "# 0 = pas de défaut de l'emprunteur au cours de la vie du prêt \n",
    "\n",
    "loanhistory = pd.read_excel(\"OldLoans.xlsx\")"
   ]
  },
  {
   "cell_type": "code",
   "execution_count": 313,
   "id": "9dfa393e-8a42-43b5-a3af-f036260dfaba",
   "metadata": {},
   "outputs": [],
   "source": [
    "#importation de variables explicatives pour le modèle \n",
    "#Dow Jones return and GDP\n",
    "Fedhistory = pd.read_csv(\"Simplified_FedHistory.csv\")"
   ]
  },
  {
   "cell_type": "code",
   "execution_count": 314,
   "id": "605e346a-a463-48fe-bb5f-37324d746ee3",
   "metadata": {},
   "outputs": [],
   "source": [
    "# combiner les 2 datasets\n",
    "combined = pd.merge(loanhistory, Fedhistory, on = \"Year\")"
   ]
  },
  {
   "cell_type": "code",
   "execution_count": 315,
   "id": "a0c62ade-919a-4894-8bb2-dcb9f08210f1",
   "metadata": {},
   "outputs": [],
   "source": [
    "# création du modèle \n",
    "\"\"\"\n",
    "on utilise ici un modèle de régression logistique. Ce genre de régression est utilisée pour modéliser les probabilités qu'un événement binaire se produise\n",
    "\n",
    "Variable dépendante = défaut de paiement\n",
    "Variable indépendante = YOB, DWJ_return, GDP, RiskLevel\n",
    "Une distribution binomiale est choisie, appropriée lorsque la variable dépendante est binaire\n",
    "\"\"\"\n",
    "model = smf.glm(formula = \"Default ~ RiskLevel + YOB + GDP + DJX_Return\",\n",
    "                data = combined,\n",
    "                family = sm.families.Binomial())"
   ]
  },
  {
   "cell_type": "code",
   "execution_count": 316,
   "id": "dd90fe17-a72a-491a-9e79-9c0a39ebdf02",
   "metadata": {},
   "outputs": [],
   "source": [
    "# fit du modèle, ajustement du modèle sur les données, obligatoire\n",
    "result = model.fit()"
   ]
  },
  {
   "cell_type": "code",
   "execution_count": 317,
   "id": "f3aa8e9d-4c3a-48f4-a53c-217b7dda24a8",
   "metadata": {},
   "outputs": [],
   "source": [
    "# estimation des probabilités de défaut, pour avoir les résultats des probabilités que ce soit un défaut\n",
    "predictions = result.predict()"
   ]
  },
  {
   "cell_type": "code",
   "execution_count": 318,
   "id": "3049b749-e4a8-47ff-9482-f02190396c4c",
   "metadata": {},
   "outputs": [],
   "source": [
    "# calcul du taux de défaut historique selon l'ancienneté du prêt\n",
    "defaut = combined.groupby('YOB').apply(lambda x : x['Default'].value_counts()).reset_index()\n",
    "defaut['tete'] = (tete[1] / (tete[1]+tete[0]))*100\n",
    "defaut = tete['tete'].tolist()\n",
    "# defaut contient le taux de défaut en fonction des valeurs de YOB d'après les données historiques"
   ]
  },
  {
   "cell_type": "code",
   "execution_count": 319,
   "id": "dc7e0ada-4d33-41e9-8494-5483fbfe4a20",
   "metadata": {},
   "outputs": [],
   "source": [
    "# dataframe qui contient les YOB et les probabilités du modele predictif\n",
    "model = pd.DataFrame({\"YOB\":np.array(combined[\"YOB\"]), \"est_defaut\":predictions})"
   ]
  },
  {
   "cell_type": "code",
   "execution_count": 320,
   "id": "7ca6f882-e6e9-403f-8a96-fb324f6ef49a",
   "metadata": {},
   "outputs": [],
   "source": [
    "liste = model.groupby('YOB')['est_defaut'].apply(lambda x:(x.mean()*100))\n",
    "liste = liste.tolist()"
   ]
  },
  {
   "cell_type": "code",
   "execution_count": 321,
   "id": "20c68d24-2531-4b37-b19c-4cbdcedd95f1",
   "metadata": {},
   "outputs": [],
   "source": [
    "# scenario macroeconomique choisis\n",
    "adversescenario = pd.read_csv(\"Simplified_Adverse.csv\")"
   ]
  },
  {
   "cell_type": "code",
   "execution_count": 322,
   "id": "f7de9739-b873-4a0c-88cf-cf3d6be56a13",
   "metadata": {},
   "outputs": [
    {
     "data": {
      "text/html": [
       "<div>\n",
       "<style scoped>\n",
       "    .dataframe tbody tr th:only-of-type {\n",
       "        vertical-align: middle;\n",
       "    }\n",
       "\n",
       "    .dataframe tbody tr th {\n",
       "        vertical-align: top;\n",
       "    }\n",
       "\n",
       "    .dataframe thead th {\n",
       "        text-align: right;\n",
       "    }\n",
       "</style>\n",
       "<table border=\"1\" class=\"dataframe\">\n",
       "  <thead>\n",
       "    <tr style=\"text-align: right;\">\n",
       "      <th></th>\n",
       "      <th>Year</th>\n",
       "      <th>DJX_Return</th>\n",
       "      <th>GDP</th>\n",
       "    </tr>\n",
       "  </thead>\n",
       "  <tbody>\n",
       "    <tr>\n",
       "      <th>0</th>\n",
       "      <td>2018</td>\n",
       "      <td>-24.626893</td>\n",
       "      <td>-2.129263</td>\n",
       "    </tr>\n",
       "    <tr>\n",
       "      <th>1</th>\n",
       "      <td>2019</td>\n",
       "      <td>2.358807</td>\n",
       "      <td>0.793390</td>\n",
       "    </tr>\n",
       "    <tr>\n",
       "      <th>2</th>\n",
       "      <td>2020</td>\n",
       "      <td>18.992974</td>\n",
       "      <td>3.074821</td>\n",
       "    </tr>\n",
       "  </tbody>\n",
       "</table>\n",
       "</div>"
      ],
      "text/plain": [
       "   Year  DJX_Return       GDP\n",
       "0  2018  -24.626893 -2.129263\n",
       "1  2019    2.358807  0.793390\n",
       "2  2020   18.992974  3.074821"
      ]
     },
     "execution_count": 322,
     "metadata": {},
     "output_type": "execute_result"
    }
   ],
   "source": [
    "adversescenario"
   ]
  },
  {
   "cell_type": "code",
   "execution_count": 333,
   "id": "9602dfdd-7532-49b7-84f0-ff35b33e53d5",
   "metadata": {},
   "outputs": [
    {
     "data": {
      "text/html": [
       "<div>\n",
       "<style scoped>\n",
       "    .dataframe tbody tr th:only-of-type {\n",
       "        vertical-align: middle;\n",
       "    }\n",
       "\n",
       "    .dataframe tbody tr th {\n",
       "        vertical-align: top;\n",
       "    }\n",
       "\n",
       "    .dataframe thead th {\n",
       "        text-align: right;\n",
       "    }\n",
       "</style>\n",
       "<table border=\"1\" class=\"dataframe\">\n",
       "  <thead>\n",
       "    <tr style=\"text-align: right;\">\n",
       "      <th></th>\n",
       "      <th>RiskLevel</th>\n",
       "      <th>YOB</th>\n",
       "      <th>LGD</th>\n",
       "      <th>EAD</th>\n",
       "      <th>Year</th>\n",
       "      <th>DJX_Return</th>\n",
       "      <th>GDP</th>\n",
       "    </tr>\n",
       "  </thead>\n",
       "  <tbody>\n",
       "    <tr>\n",
       "      <th>0</th>\n",
       "      <td>1</td>\n",
       "      <td>1</td>\n",
       "      <td>0.25</td>\n",
       "      <td>21.627095</td>\n",
       "      <td>2018</td>\n",
       "      <td>-24.626893</td>\n",
       "      <td>-2.129263</td>\n",
       "    </tr>\n",
       "    <tr>\n",
       "      <th>1</th>\n",
       "      <td>1</td>\n",
       "      <td>2</td>\n",
       "      <td>0.25</td>\n",
       "      <td>3.259451</td>\n",
       "      <td>2018</td>\n",
       "      <td>-24.626893</td>\n",
       "      <td>-2.129263</td>\n",
       "    </tr>\n",
       "    <tr>\n",
       "      <th>2</th>\n",
       "      <td>1</td>\n",
       "      <td>3</td>\n",
       "      <td>0.25</td>\n",
       "      <td>20.390560</td>\n",
       "      <td>2018</td>\n",
       "      <td>-24.626893</td>\n",
       "      <td>-2.129263</td>\n",
       "    </tr>\n",
       "    <tr>\n",
       "      <th>3</th>\n",
       "      <td>1</td>\n",
       "      <td>4</td>\n",
       "      <td>0.25</td>\n",
       "      <td>3.753431</td>\n",
       "      <td>2018</td>\n",
       "      <td>-24.626893</td>\n",
       "      <td>-2.129263</td>\n",
       "    </tr>\n",
       "    <tr>\n",
       "      <th>4</th>\n",
       "      <td>1</td>\n",
       "      <td>5</td>\n",
       "      <td>0.25</td>\n",
       "      <td>5.719347</td>\n",
       "      <td>2018</td>\n",
       "      <td>-24.626893</td>\n",
       "      <td>-2.129263</td>\n",
       "    </tr>\n",
       "    <tr>\n",
       "      <th>...</th>\n",
       "      <td>...</td>\n",
       "      <td>...</td>\n",
       "      <td>...</td>\n",
       "      <td>...</td>\n",
       "      <td>...</td>\n",
       "      <td>...</td>\n",
       "      <td>...</td>\n",
       "    </tr>\n",
       "    <tr>\n",
       "      <th>95</th>\n",
       "      <td>2</td>\n",
       "      <td>1</td>\n",
       "      <td>0.35</td>\n",
       "      <td>89.606570</td>\n",
       "      <td>2018</td>\n",
       "      <td>-24.626893</td>\n",
       "      <td>-2.129263</td>\n",
       "    </tr>\n",
       "    <tr>\n",
       "      <th>96</th>\n",
       "      <td>2</td>\n",
       "      <td>2</td>\n",
       "      <td>0.35</td>\n",
       "      <td>7.515719</td>\n",
       "      <td>2018</td>\n",
       "      <td>-24.626893</td>\n",
       "      <td>-2.129263</td>\n",
       "    </tr>\n",
       "    <tr>\n",
       "      <th>97</th>\n",
       "      <td>2</td>\n",
       "      <td>3</td>\n",
       "      <td>0.35</td>\n",
       "      <td>35.214424</td>\n",
       "      <td>2018</td>\n",
       "      <td>-24.626893</td>\n",
       "      <td>-2.129263</td>\n",
       "    </tr>\n",
       "    <tr>\n",
       "      <th>98</th>\n",
       "      <td>2</td>\n",
       "      <td>4</td>\n",
       "      <td>0.35</td>\n",
       "      <td>6.476053</td>\n",
       "      <td>2018</td>\n",
       "      <td>-24.626893</td>\n",
       "      <td>-2.129263</td>\n",
       "    </tr>\n",
       "    <tr>\n",
       "      <th>99</th>\n",
       "      <td>2</td>\n",
       "      <td>5</td>\n",
       "      <td>0.35</td>\n",
       "      <td>5.447158</td>\n",
       "      <td>2018</td>\n",
       "      <td>-24.626893</td>\n",
       "      <td>-2.129263</td>\n",
       "    </tr>\n",
       "  </tbody>\n",
       "</table>\n",
       "<p>100 rows × 7 columns</p>\n",
       "</div>"
      ],
      "text/plain": [
       "    RiskLevel  YOB   LGD        EAD  Year  DJX_Return       GDP\n",
       "0           1    1  0.25  21.627095  2018  -24.626893 -2.129263\n",
       "1           1    2  0.25   3.259451  2018  -24.626893 -2.129263\n",
       "2           1    3  0.25  20.390560  2018  -24.626893 -2.129263\n",
       "3           1    4  0.25   3.753431  2018  -24.626893 -2.129263\n",
       "4           1    5  0.25   5.719347  2018  -24.626893 -2.129263\n",
       "..        ...  ...   ...        ...   ...         ...       ...\n",
       "95          2    1  0.35  89.606570  2018  -24.626893 -2.129263\n",
       "96          2    2  0.35   7.515719  2018  -24.626893 -2.129263\n",
       "97          2    3  0.35  35.214424  2018  -24.626893 -2.129263\n",
       "98          2    4  0.35   6.476053  2018  -24.626893 -2.129263\n",
       "99          2    5  0.35   5.447158  2018  -24.626893 -2.129263\n",
       "\n",
       "[100 rows x 7 columns]"
      ]
     },
     "execution_count": 333,
     "metadata": {},
     "output_type": "execute_result"
    }
   ],
   "source": [
    "#choix du scenario 1\n",
    "\n",
    "adverseptf = ptf.assign(Year=adversescenario.iloc[0,0],\n",
    "                        DJX_Return = adversescenario.iloc[0,1],\n",
    "                        GDP = adversescenario.iloc[0, 2])"
   ]
  },
  {
   "cell_type": "code",
   "execution_count": 324,
   "id": "156d0eaa-e39b-4e2e-a13b-e0a0e8d4b55d",
   "metadata": {},
   "outputs": [],
   "source": [
    "# prediction des probabilités de défaut selon le scenario adverse\n",
    "PD = result.predict(adverseptf)\n",
    "#donne les proba de défaut sous les nouvelles conditions de marché"
   ]
  },
  {
   "cell_type": "code",
   "execution_count": 332,
   "id": "015e4128-4c08-4e14-a013-526b5c4762dc",
   "metadata": {},
   "outputs": [
    {
     "data": {
      "text/plain": [
       "array([1, 2, 3, 4, 5, 6, 7, 8, 1, 2, 3, 4, 5, 6, 7, 8, 1, 2, 3, 4, 5, 6,\n",
       "       7, 8, 1, 2, 3, 4, 5, 6, 1, 2, 3, 4, 5, 6, 7, 1, 2, 3, 4, 5, 6, 7,\n",
       "       1, 2, 3, 4, 5, 6, 7, 8, 1, 2, 3, 4, 5, 6, 1, 2, 3, 4, 5, 6, 7, 1,\n",
       "       2, 3, 4, 5, 6, 7, 8, 1, 2, 3, 4, 5, 6, 7, 1, 2, 3, 4, 5, 6, 7, 1,\n",
       "       2, 3, 4, 5, 6, 7, 8, 1, 2, 3, 4, 5])"
      ]
     },
     "execution_count": 332,
     "metadata": {},
     "output_type": "execute_result"
    }
   ],
   "source": [
    "predPD = pd.DataFrame({\"YOB\": np.array(ptf[\"YOB\"]), \"PD\": PD})"
   ]
  },
  {
   "cell_type": "code",
   "execution_count": 326,
   "id": "12b2e300-938a-4707-a569-42bc661d2b12",
   "metadata": {},
   "outputs": [
    {
     "data": {
      "text/plain": [
       "[3.982521497721069,\n",
       " 2.943495213881659,\n",
       " 2.168485311155408,\n",
       " 1.5936521270945518,\n",
       " 1.1690837388095832,\n",
       " 0.8584299541098007,\n",
       " 0.6319821591949193,\n",
       " 0.4426551084518642]"
      ]
     },
     "execution_count": 326,
     "metadata": {},
     "output_type": "execute_result"
    }
   ],
   "source": [
    "# Calcule les probabilités de défaut prévues sous des conditions économiques défavorables pour chaque ancienneté du prêt.\n",
    "\n",
    "predPD.groupby('YOB')['PD'].apply(lambda x:x.mean()*100).tolist()"
   ]
  },
  {
   "cell_type": "code",
   "execution_count": 327,
   "id": "12a9f1d4-760e-496a-b074-20d5b4519758",
   "metadata": {},
   "outputs": [],
   "source": [
    "ExpectedLoss = sum(adverseptf[\"EAD\"]*adverseptf[\"LGD\"]*PD)"
   ]
  },
  {
   "cell_type": "code",
   "execution_count": 335,
   "id": "97e91505-f0d3-4760-ad39-e47f68cc6105",
   "metadata": {},
   "outputs": [
    {
     "data": {
      "image/png": "[encoded data removed]",
      "text/plain": [
       "<Figure size 800x600 with 2 Axes>"
      ]
     },
     "metadata": {},
     "output_type": "display_data"
    }
   ],
   "source": [
    "# Visualization with matplotlib.\n",
    "plt.figure(figsize=(8, 6)) \n",
    "plt.subplot(2, 1, 1)\n",
    "plt.plot(combined[\"YOB\"].unique(), defaut, \"o-\", color = \"blue\", label = \"Histotical Portfolio\")\n",
    "plt.title(\"Defaul Rate (%)\")\n",
    "plt.legend()\n",
    "\n",
    "plt.subplot(2, 1, 2)\n",
    "plt.plot(model[\"YOB\"].unique(), liste, \"o-\", color = \"green\", label = \"Fitted Model\")\n",
    "plt.xlabel(\"Years on Books\")\n",
    "plt.legend()\n",
    "\n",
    "plt.plot(predPD[\"YOB\"].unique(), predDefault, \"o-\", color = \"red\", label = \"Predicted Adverse Portfolio\")\n",
    "plt.title(\"Defaul Rate (%)\")\n",
    "plt.xlabel(\"Years on Books\")\n",
    "plt.legend()\n",
    "\n",
    "plt.show()"
   ]
  },
  {
   "cell_type": "markdown",
   "id": "5bb33a3d-3dce-40c5-8a9f-b69332cb6eed",
   "metadata": {},
   "source": [
    "Le graphique bleu montre le taux de défaut historique du portefeuille (Historical Portfolio) en fonction de l'ancienneté des prêts (Years on Books, YOB).\n",
    "\n",
    "Initialement, il y a un taux de défaut relativement élevé pour les prêts ayant 1 à 2 ans d'ancienneté. Une augmentation notable du taux de défaut est observée à 3 ans. Après cette pointe, le taux de défaut diminue progressivement à mesure que l'ancienneté des prêts augmente. Les prêts ayant plus de 5 ans d'ancienneté montrent un taux de défaut beaucoup plus bas, se stabilisant presque à 0 après environ 10 ans.\n",
    "\n",
    "Le graphique (vert et rouge) compare les taux de défaut estimés par le modèle ajusté (Fitted Model) et les taux de défaut prédits sous des conditions économiques défavorables (Predicted Adverse Portfolio).\n",
    "\n",
    "Observation :\n",
    "\n",
    "Les taux de défaut estimés par le modèle ajusté (en vert) montrent une tendance générale similaire au graphique historique, avec quelques fluctuations mais une diminution progressive du taux de défaut à mesure que les prêts vieillissent. Les taux de défaut prévus sous des conditions défavorables (en rouge) sont systématiquement plus élevés que ceux estimés par le modèle ajusté, ce qui est attendu étant donné que le scénario défavorable implique des conditions économiques plus strictes. On observe que pour les prêts plus récents (1-3 ans d'ancienneté), le taux de défaut est significativement plus élevé dans le scénario défavorable, ce qui suggère une sensibilité accrue aux conditions économiques adverses.\n",
    "\n",
    "Conclusions : Les taux de défaut historiques montrent des variations notables avec une pointe aux alentours de 3 ans et une diminution progressive par la suite. Cela pourrait indiquer des périodes critiques pour les prêts où les risques de défaut sont plus élevés.\n",
    "\n",
    "Le modèle ajusté suit assez bien les tendances historiques, ce qui valide sa précision pour les données passées. Le scénario défavorable montre que les taux de défaut augmenteraient sous des conditions économiques adverses, particulièrement pour les prêts plus jeunes. Cela met en évidence l'importance de surveiller et de gérer activement les risques de défaut, en particulier dans des environnements économiques instables.\n",
    "\n",
    "Pourquoi modèle donne un taux de défaut supérieur pour YOB=3 que le scénario dévaforable :\n",
    "\n",
    "Il se pourrait qu'il y ait eu des événements économiques ou financiers spécifiques il y a trois ans qui ont conduit à une augmentation exceptionnelle des défauts pour les prêts ayant atteint cette durée. Cela pourrait être une crise économique, une récession, des changements réglementaires, ou des conditions spécifiques du marché qui ont particulièrement affecté les prêts à ce stade\n",
    "\n",
    "Les données historiques utilisées pour ajuster le modèle peuvent contenir des anomalies ou des biais qui ne sont pas présents dans les données du scénario défavorable. Par exemple, un grand nombre de défauts à trois ans dans les données historiques pourrait influencer fortement le modèle ajusté.\n",
    "\n",
    "Le scénario défavorable que vous avez utilisé pour prédire les taux de défaut pourrait ne pas être assez sévère ou ne pas refléter précisément les conditions qui ont conduit à des défauts historiques à trois ans. Les hypothèses de ce scénario (DJX_Return et GDP) peuvent différer de la réalité historique ayant conduit à des défauts plus élevés."
   ]
  }
 ],
 "metadata": {
  "kernelspec": {
   "display_name": "Python 3 (ipykernel)",
   "language": "python",
   "name": "python3"
  },
  "language_info": {
   "codemirror_mode": {
    "name": "ipython",
    "version": 3
   },
   "file_extension": ".py",
   "mimetype": "text/x-python",
   "name": "python",
   "nbconvert_exporter": "python",
   "pygments_lexer": "ipython3",
   "version": "3.11.5"
  }
 },
 "nbformat": 4,
 "nbformat_minor": 5
}
